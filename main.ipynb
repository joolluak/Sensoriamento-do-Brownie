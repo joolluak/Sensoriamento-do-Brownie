{
  "cells": [
    {
      "cell_type": "code",
      "execution_count": 204,
      "metadata": {
        "trusted": true
      },
      "outputs": [],
      "source": [
        "import pandas as pd         #IMPORTAÇÃO DAS BIBLIOTECAS\n",
        "import numpy as np\n",
        "from scipy.interpolate import interp1d as ip\n",
        "import matplotlib.pyplot as plt\n",
        "\n",
        "\n",
        "dfAmarelo = pd.read_csv(\"Tabela Amarelo.csv\", sep = \",\") #LENDO A TABELA DOS AMORTECEDORES E SEPARANDO AS INFORMAÇÕES POR VÍRGULA\n",
        "dfVerde = pd.read_csv(\"Tabela Verde.csv\", sep = \",\")\n",
        "dfVermelho= pd.read_csv(\"Tabela Vermelho.csv\", sep = \",\")\n"
      ]
    },
    {
      "cell_type": "code",
      "execution_count": 205,
      "metadata": {
        "trusted": true
      },
      "outputs": [],
      "source": [
        "xVerde = np.asarray(dfVerde[\"Deformação(mm)\"])\n",
        "yVerde = np.asarray(dfVerde[\"Força(N)\"])                #TRANSFORMANDO DADOS DA TABELA EM OBJETO DO TIPO ARRAY\n",
        "xAmarelo = np.asarray(dfAmarelo[\"Deformação(mm)\"])\n",
        "yAmarelo = np.asarray(dfAmarelo[\"Força(N)\"])\n",
        "xVermelho = np.asarray(dfVermelho[\"Deformação(mm)\"])\n",
        "yVermelho = np.asarray(dfVermelho[\"Força(N)\"])\n",
        "xVerde.sort()           #SORT() ORDENA E RETORNA OS PRÓPRIOS ARRAYS\n",
        "xAmarelo.sort()         \n",
        "xVermelho.sort()"
      ]
    },
    {
      "cell_type": "code",
      "execution_count": 206,
      "metadata": {
        "trusted": true
      },
      "outputs": [],
      "source": [
        "def Verificadora(a , b):\n",
        "    c=[]\n",
        "    d=[]\n",
        "    for index, item in enumerate(a):        #PARA UM DADO ESPECÍFICO DA TABELA, ENUMERAR A EM ITEM \n",
        "        if(index==0):                       #SE O DADO FOR 0\n",
        "            c.append(a[index])              #ANEXAR A E B\n",
        "            d.append(b[index])\n",
        "        elif(c[-1]!=item):\n",
        "            c.append(a[index])             #SE O DADO FOR\n",
        "            d.append(b[index])             #ANEXAR A E B\n",
        "    e=c+d                                  #E RECEBE A SOMA DE C+D\n",
        "    \n",
        "    return e                               #RETORNA O VALOR DE E"
      ]
    },
    {
      "cell_type": "code",
      "execution_count": 207,
      "metadata": {
        "trusted": true
      },
      "outputs": [],
      "source": [
        "h = Verificadora(xVerde, yVerde)  #H RECEBE VERIFICADORA\n",
        "metade = (len(h)//2)              #PEGA O NUMERO DE ITENS E DIVIDE POR 2\n",
        "xVerde= h[:metade]                #PEGA A QUANTIDADE DE ITENS DO XVERDE E DIVIDE POR 2\n",
        "yVerde= h[metade:]                #PEGA A QUANTIDADE DE ITENS DO yVERDE E DIVIDE POR 2"
      ]
    },
    {
      "cell_type": "code",
      "execution_count": 208,
      "metadata": {
        "trusted": true
      },
      "outputs": [],
      "source": [
        "funcVerde = ip(xVerde, yVerde, kind = 'cubic')      #PLOTA O GRÁFICO TIPO CUBICO DO AMORTECEDOR VERDE"
      ]
    },
    {
      "cell_type": "code",
      "execution_count": 209,
      "metadata": {
        "trusted": true
      },
      "outputs": [],
      "source": [
        "h = Verificadora(xAmarelo, yAmarelo)    #H RECEBE VERIFICADORA\n",
        "metade = (len(h)//2)                    #PEGA O NUMERO DE ITENS E DIVIDE POR 2\n",
        "xAmarelo= h[:metade]                    #PEGA A QUANTIDADE DE ITENS DO xAMARELO E DIVIDE POR 2\n",
        "yAmarelo= h[metade:]                    #PEGA A QUANTIDADE DE ITENS DO yAMARELO E DIVIDE POR 2        "
      ]
    },
    {
      "cell_type": "code",
      "execution_count": 210,
      "metadata": {
        "trusted": true
      },
      "outputs": [],
      "source": [
        "funcAmarelo = ip(xAmarelo, yAmarelo, kind = 'cubic')     #PLOTA O GRÁFICO TIPO CUBICO DO AMORTECEDOR AMAERELO"
      ]
    },
    {
      "cell_type": "code",
      "execution_count": 211,
      "metadata": {
        "trusted": true
      },
      "outputs": [],
      "source": [
        "h = Verificadora(xVermelho, yVermelho)    #H RECEBE VERIFICADORA\n",
        "metade = (len(h)//2)                      #PEGA O NUMERO DE ITENS E DIVIDE POR 2\n",
        "xVermelho= h[:metade]                     #PEGA A QUANTIDADE DE ITENS DO XVERMELHO E DIVIDE POR 2\n",
        "yVermelho= h[metade:]                     #PEGA A QUANTIDADE DE ITENS DO yVERMELHO E DIVIDE POR 2"
      ]
    },
    {
      "cell_type": "code",
      "execution_count": 212,
      "metadata": {
        "trusted": true
      },
      "outputs": [
        {
          "name": "stdout",
          "output_type": "stream",
          "text": [
            "109.7\n"
          ]
        }
      ],
      "source": [
        "print(xVermelho[-1])        #MOSTRA A ULTIMA INFORMAÇÃO DO EIXO X DO GRÁFICO DO AMORTECEDOR VERMELHO"
      ]
    },
    {
      "cell_type": "code",
      "execution_count": 213,
      "metadata": {
        "trusted": true
      },
      "outputs": [],
      "source": [
        "funcVermelho = ip(xVermelho, yVermelho, kind = 'cubic')     #PLOTA O GRÁFICO TIPO CUBICO DO AMORTECEDOR VERMELHO"
      ]
    },
    {
      "cell_type": "code",
      "execution_count": 214,
      "metadata": {
        "trusted": true
      },
      "outputs": [],
      "source": [
        "arqName = \"RUN4.csv\" # nome do arquivo csv\n",
        "amortecedor1 = \"vermelho\" # \"cor\" do amortecedor 1 - tudo em minúsculo\n",
        "amortecedor2 = \"\" # \"cor\" do amortecedor 2 - tudo em minúsculo\n",
        "colName1 = \"a0\" # nome da coluna do arquivo que tem os dados\n",
        "conName2 = \"\" # nome da coluna do arquivo que tem os dados"
      ]
    },
    {
      "cell_type": "code",
      "execution_count": 215,
      "metadata": {
        "trusted": true
      },
      "outputs": [],
      "source": [
        "df = pd.read_csv(arqName, sep = \",\")    #LER O ARQUIVO CSV \"arqNAME\" E SEPARAR AS INFORMAÇÕES POR ,"
      ]
    },
    {
      "cell_type": "code",
      "execution_count": 216,
      "metadata": {
        "trusted": true
      },
      "outputs": [],
      "source": [
        "def Deform(x):      #DEFORMAÇÃO DO POTENCIÔMETRO\n",
        "    y = -(x/436.9)+65535/436.9      #EQUAÇÃO QUE DIZ A DEFORMAÇÃO APARTIR DO DADO DO POTENCIÔMETRO\n",
        "    return y        #RETORNA O VALOR DE Y"
      ]
    },
    {
      "cell_type": "code",
      "execution_count": 217,
      "metadata": {
        "trusted": true
      },
      "outputs": [],
      "source": [
        "df[\"Deformação(mm)\"] = Deform(df[colName1])     #CRIAÇÃO DA TABELA DEFORMAÇÃO(MM) APARTIR DA COLUNA A0 DO POTENCIÔMETRO"
      ]
    },
    {
      "cell_type": "code",
      "execution_count": 218,
      "metadata": {
        "trusted": true
      },
      "outputs": [],
      "source": [
        "def Force(x, y):\n",
        "    z=[]\n",
        "    if(y==\"vermelho\"):          #SE O EIXO Y FOR IGUAL AO AMORTECEDOR VERMELHO\n",
        "        for i in x:             #PARA I NO EIXO X\n",
        "            if(i>109.7):            #SE I FOR MAIOR QUE O VALOR MÁXIMO DA TABELA VERMELHA\n",
        "                z.append(+3187)     #ANEXA 3187\n",
        "            elif(i>1.023):      #SE I FOR MAIOR QUE O VALOR MÍNIMO DA TABELA VERMELHA\n",
        "                z.append(funcVermelho(i))          #ANEXAR O DADO DA FUNÇÃO VERMELHA\n",
        "            else:           #SE I FOR MAIOR QUE O VALOR MÍNIMO DA TABELA VERMELHA\n",
        "                z.append(-425)      #ANEXA -425                \n",
        "    elif(y==\"verde\"):           #SE O EIXO Y FOR IGUAL AO AMORTECEDOR VERDE\n",
        "        for i in x:             #PARA I NO EIXO X\n",
        "            if(i>109.38):           #SE I FOR MAIOR QUE O VALOR MÁXIMO DA TABELA VERDE\n",
        "                z.append(+3905)     #ANEXA 3905\n",
        "            elif(i>1.014):          #SE I FOR MAIOR QUE O VALOR MÍNIMO DA TABELA VERDE\n",
        "                z.append(funcVerde(i))      #ANEXAR O DADO DA FUNÇÃO VERDE\n",
        "            else:           #SE I FOR MENOR QUE O VALOR MÍNIMO DA TABELA VERMELHA\n",
        "                z.append(-561)      #ANEXA -561\n",
        "    elif(y==\"amarelo\"):         #SE O EIXO Y FOR IGUAL AO AMORTECEDOR AMARELO\n",
        "        for i in x:             #PARA I NO EIXO X\n",
        "            if(i>109.78):           #SE I FOR MAIOR QUE O VALOR MÁXIMO DA TABELA AMARELA\n",
        "                z.append(+3912)     #ANEXA 3912\n",
        "            elif(i>1.21):            #SE I FOR MAIOR QUE O VALOR MÍNIMO DA TABELA AMARELA\n",
        "                z.append(funcAmarelo(i))        #ANEXAR O DADO DA FUNÇÃO AMARELA\n",
        "            else:           #SE I FOR MENOR QUE O VALOR MÍNIMO DA TABELA VERMELHA\n",
        "                z.append(-530)      #ANEXA -530\n",
        "    else:\n",
        "        print(\"selecione outra cor\")        #CASO NÃO SE ENCAIXE AS INFORMAÇÕES NOS AMORTECEDORES ERRO POR NÃO ACHAR AS QUAL É O CERTO\n",
        "    return z                  #RETORNAR O VETOR/VALOR Z"
      ]
    },
    {
      "cell_type": "code",
      "execution_count": 219,
      "metadata": {
        "trusted": true
      },
      "outputs": [],
      "source": [
        "df[\"Força(N)\"] = Force(np.asarray(df[\"Deformação(mm)\"]), amortecedor1) #CRIAÇÃO DE UMA TABELA COM FORÇA, DEFORMAÇAÕ E QUAL O AMORTECEDOR"
      ]
    },
    {
      "cell_type": "code",
      "execution_count": 220,
      "metadata": {
        "trusted": true
      },
      "outputs": [
        {
          "data": {
            "text/html": [
              "<div>\n",
              "<style scoped>\n",
              "    .dataframe tbody tr th:only-of-type {\n",
              "        vertical-align: middle;\n",
              "    }\n",
              "\n",
              "    .dataframe tbody tr th {\n",
              "        vertical-align: top;\n",
              "    }\n",
              "\n",
              "    .dataframe thead th {\n",
              "        text-align: right;\n",
              "    }\n",
              "</style>\n",
              "<table border=\"1\" class=\"dataframe\">\n",
              "  <thead>\n",
              "    <tr style=\"text-align: right;\">\n",
              "      <th></th>\n",
              "      <th>Unnamed: 0</th>\n",
              "      <th>lsmaccx</th>\n",
              "      <th>lsmaccy</th>\n",
              "      <th>lsmaccz</th>\n",
              "      <th>lsmangx</th>\n",
              "      <th>lsmangy</th>\n",
              "      <th>lsmangz</th>\n",
              "      <th>a0</th>\n",
              "      <th>a1</th>\n",
              "      <th>a2</th>\n",
              "      <th>f1</th>\n",
              "      <th>f2</th>\n",
              "      <th>timestamp</th>\n",
              "      <th>nova linha</th>\n",
              "      <th>Deformação(mm)</th>\n",
              "      <th>Força(N)</th>\n",
              "    </tr>\n",
              "  </thead>\n",
              "  <tbody>\n",
              "    <tr>\n",
              "      <th>0</th>\n",
              "      <td>0</td>\n",
              "      <td>0</td>\n",
              "      <td>0</td>\n",
              "      <td>0</td>\n",
              "      <td>0</td>\n",
              "      <td>0</td>\n",
              "      <td>0</td>\n",
              "      <td>65535</td>\n",
              "      <td>54317</td>\n",
              "      <td>48923</td>\n",
              "      <td>0</td>\n",
              "      <td>0</td>\n",
              "      <td>5</td>\n",
              "      <td>131070</td>\n",
              "      <td>0.0</td>\n",
              "      <td>-425</td>\n",
              "    </tr>\n",
              "    <tr>\n",
              "      <th>1</th>\n",
              "      <td>1</td>\n",
              "      <td>0</td>\n",
              "      <td>0</td>\n",
              "      <td>0</td>\n",
              "      <td>0</td>\n",
              "      <td>0</td>\n",
              "      <td>0</td>\n",
              "      <td>65535</td>\n",
              "      <td>51676</td>\n",
              "      <td>45995</td>\n",
              "      <td>0</td>\n",
              "      <td>0</td>\n",
              "      <td>10</td>\n",
              "      <td>131070</td>\n",
              "      <td>0.0</td>\n",
              "      <td>-425</td>\n",
              "    </tr>\n",
              "    <tr>\n",
              "      <th>2</th>\n",
              "      <td>2</td>\n",
              "      <td>0</td>\n",
              "      <td>0</td>\n",
              "      <td>0</td>\n",
              "      <td>0</td>\n",
              "      <td>0</td>\n",
              "      <td>0</td>\n",
              "      <td>65535</td>\n",
              "      <td>49708</td>\n",
              "      <td>43130</td>\n",
              "      <td>0</td>\n",
              "      <td>0</td>\n",
              "      <td>15</td>\n",
              "      <td>131070</td>\n",
              "      <td>0.0</td>\n",
              "      <td>-425</td>\n",
              "    </tr>\n",
              "    <tr>\n",
              "      <th>3</th>\n",
              "      <td>3</td>\n",
              "      <td>0</td>\n",
              "      <td>0</td>\n",
              "      <td>0</td>\n",
              "      <td>0</td>\n",
              "      <td>0</td>\n",
              "      <td>0</td>\n",
              "      <td>65535</td>\n",
              "      <td>47211</td>\n",
              "      <td>39497</td>\n",
              "      <td>0</td>\n",
              "      <td>0</td>\n",
              "      <td>20</td>\n",
              "      <td>131070</td>\n",
              "      <td>0.0</td>\n",
              "      <td>-425</td>\n",
              "    </tr>\n",
              "    <tr>\n",
              "      <th>4</th>\n",
              "      <td>4</td>\n",
              "      <td>0</td>\n",
              "      <td>0</td>\n",
              "      <td>0</td>\n",
              "      <td>0</td>\n",
              "      <td>0</td>\n",
              "      <td>0</td>\n",
              "      <td>65535</td>\n",
              "      <td>48747</td>\n",
              "      <td>41178</td>\n",
              "      <td>0</td>\n",
              "      <td>0</td>\n",
              "      <td>25</td>\n",
              "      <td>131070</td>\n",
              "      <td>0.0</td>\n",
              "      <td>-425</td>\n",
              "    </tr>\n",
              "  </tbody>\n",
              "</table>\n",
              "</div>"
            ],
            "text/plain": [
              "   Unnamed: 0  lsmaccx  lsmaccy  lsmaccz  lsmangx  lsmangy  lsmangz     a0  \\\n",
              "0           0        0        0        0        0        0        0  65535   \n",
              "1           1        0        0        0        0        0        0  65535   \n",
              "2           2        0        0        0        0        0        0  65535   \n",
              "3           3        0        0        0        0        0        0  65535   \n",
              "4           4        0        0        0        0        0        0  65535   \n",
              "\n",
              "      a1     a2  f1  f2  timestamp  nova linha  Deformação(mm) Força(N)  \n",
              "0  54317  48923   0   0          5      131070             0.0     -425  \n",
              "1  51676  45995   0   0         10      131070             0.0     -425  \n",
              "2  49708  43130   0   0         15      131070             0.0     -425  \n",
              "3  47211  39497   0   0         20      131070             0.0     -425  \n",
              "4  48747  41178   0   0         25      131070             0.0     -425  "
            ]
          },
          "execution_count": 220,
          "metadata": {},
          "output_type": "execute_result"
        }
      ],
      "source": [
        "df.head() #MOSTRA O COMEÇO DA TABELA FEITA"
      ]
    },
    {
      "cell_type": "code",
      "execution_count": 221,
      "metadata": {
        "trusted": true
      },
      "outputs": [],
      "source": [
        "df.to_csv(\"novapla.csv\") #FAZ UM ARQUIVO CSV DA TABELA GERADA PELO PROCESSAMENTO ACIMA"
      ]
    },
    {
      "cell_type": "code",
      "execution_count": null,
      "metadata": {},
      "outputs": [],
      "source": []
    }
  ],
  "metadata": {
    "kernelspec": {
      "display_name": "Python (Pyodide)",
      "language": "python",
      "name": "python"
    },
    "language_info": {
      "codemirror_mode": {
        "name": "python",
        "version": 3
      },
      "file_extension": ".py",
      "mimetype": "text/x-python",
      "name": "python",
      "nbconvert_exporter": "python",
      "pygments_lexer": "ipython3",
      "version": "3.8"
    }
  },
  "nbformat": 4,
  "nbformat_minor": 4
}
